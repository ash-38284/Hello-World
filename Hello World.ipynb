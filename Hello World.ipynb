{
 "cells": [
  {
   "cell_type": "code",
   "execution_count": 1,
   "id": "47ba4f84-1538-43bb-a7b7-c897d57d72eb",
   "metadata": {},
   "outputs": [
    {
     "name": "stdout",
     "output_type": "stream",
     "text": [
      "Requirement already satisfied: Flask in /opt/miniconda3/envs/ai-env/lib/python3.10/site-packages (3.1.2)\n",
      "Requirement already satisfied: blinker>=1.9.0 in /opt/miniconda3/envs/ai-env/lib/python3.10/site-packages (from Flask) (1.9.0)\n",
      "Requirement already satisfied: click>=8.1.3 in /opt/miniconda3/envs/ai-env/lib/python3.10/site-packages (from Flask) (8.2.1)\n",
      "Requirement already satisfied: itsdangerous>=2.2.0 in /opt/miniconda3/envs/ai-env/lib/python3.10/site-packages (from Flask) (2.2.0)\n",
      "Requirement already satisfied: jinja2>=3.1.2 in /opt/miniconda3/envs/ai-env/lib/python3.10/site-packages (from Flask) (3.1.6)\n",
      "Requirement already satisfied: markupsafe>=2.1.1 in /opt/miniconda3/envs/ai-env/lib/python3.10/site-packages (from Flask) (3.0.2)\n",
      "Requirement already satisfied: werkzeug>=3.1.0 in /opt/miniconda3/envs/ai-env/lib/python3.10/site-packages (from Flask) (3.1.3)\n"
     ]
    }
   ],
   "source": [
    "!pip install Flask"
   ]
  },
  {
   "cell_type": "code",
   "execution_count": 2,
   "id": "8b7048d0-5afb-4b8d-96c1-45a8fbace853",
   "metadata": {},
   "outputs": [],
   "source": [
    "from flask import Flask, request, jsonify, render_template\n",
    "import logging\n",
    "\n",
    "app = Flask(__name__)\n",
    "logger = logging.getLogger(__name__)\n",
    "logger.setLevel(logging.INFO)\n",
    "\n",
    "# Setup one route\n",
    "@app.route(\"/\")\n",
    "def hello_world():\n",
    "    logger.debug(\"Enter Hello World\")\n",
    "    return render_template('index.html')"
   ]
  },
  {
   "cell_type": "code",
   "execution_count": 3,
   "id": "c85aa958-2e47-446e-9709-9189890f0ce6",
   "metadata": {},
   "outputs": [],
   "source": [
    "import os\n",
    "import platform\n",
    "\n",
    "def is_notebook() -> bool:\n",
    "    try:\n",
    "        print(os.name)\n",
    "        print(platform.system())\n",
    "        shell = get_ipython().__class__.__name__\n",
    "        logger.debug(f\"shell = {shell}\")\n",
    "        print(shell)\n",
    "        \n",
    "        if shell == 'ZMQInteractiveShell':\n",
    "            return True   # Jupyter notebook or qtconsole\n",
    "        elif shell == 'TerminalInteractiveShell':\n",
    "            return False  # Terminal running IPython\n",
    "        else:\n",
    "            return False  # Other type\n",
    "    except NameError:\n",
    "        return False      # Probably standard Python interpreter"
   ]
  },
  {
   "cell_type": "code",
   "execution_count": null,
   "id": "f5c90f95-050a-4035-a847-d9797b02a9db",
   "metadata": {},
   "outputs": [
    {
     "name": "stdout",
     "output_type": "stream",
     "text": [
      "posix\n",
      "Darwin\n",
      "ZMQInteractiveShell\n",
      "running under Jupyter\n",
      " * Serving Flask app '__main__'\n",
      " * Debug mode: off\n"
     ]
    },
    {
     "name": "stderr",
     "output_type": "stream",
     "text": [
      "\u001b[31m\u001b[1mWARNING: This is a development server. Do not use it in a production deployment. Use a production WSGI server instead.\u001b[0m\n",
      " * Running on http://127.0.0.1:5000\n",
      "\u001b[33mPress CTRL+C to quit\u001b[0m\n",
      "127.0.0.1 - - [07/Sep/2025 07:06:29] \"GET / HTTP/1.1\" 200 -\n",
      "127.0.0.1 - - [07/Sep/2025 07:06:29] \"\u001b[33mGET /static/css/style.css HTTP/1.1\u001b[0m\" 404 -\n"
     ]
    }
   ],
   "source": [
    "# If we are running in Jupyter, run directly\n",
    "if is_notebook():\n",
    "    print(\"running under Jupyter\")\n",
    "    app.run()"
   ]
  },
  {
   "cell_type": "code",
   "execution_count": null,
   "id": "3395d6ef-493f-460f-9a2c-f8abe3c612a6",
   "metadata": {},
   "outputs": [],
   "source": [
    "# Otherwise, use pinggy in the following cells\n",
    "!nohup ssh -p 443 -o StrictHostKeyChecking=no -R0:localhost:5000 a.pinggy.io -T &"
   ]
  },
  {
   "cell_type": "code",
   "execution_count": null,
   "id": "589372ce-e677-4400-ba17-49da14b20fa7",
   "metadata": {},
   "outputs": [],
   "source": [
    "!cat nohup.out"
   ]
  },
  {
   "cell_type": "code",
   "execution_count": null,
   "id": "1cce4175-a72b-49d3-8dd9-c915568456f4",
   "metadata": {},
   "outputs": [],
   "source": []
  }
 ],
 "metadata": {
  "kernelspec": {
   "display_name": "Python 3 (ipykernel)",
   "language": "python",
   "name": "python3"
  },
  "language_info": {
   "codemirror_mode": {
    "name": "ipython",
    "version": 3
   },
   "file_extension": ".py",
   "mimetype": "text/x-python",
   "name": "python",
   "nbconvert_exporter": "python",
   "pygments_lexer": "ipython3",
   "version": "3.10.18"
  }
 },
 "nbformat": 4,
 "nbformat_minor": 5
}
